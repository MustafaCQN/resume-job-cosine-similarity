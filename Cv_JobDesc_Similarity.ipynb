{
  "nbformat": 4,
  "nbformat_minor": 0,
  "metadata": {
    "colab": {
      "provenance": []
    },
    "kernelspec": {
      "name": "python3",
      "display_name": "Python 3"
    },
    "language_info": {
      "name": "python"
    }
  },
  "cells": [
    {
      "cell_type": "code",
      "source": [
        "!pip install spacy\n",
        "!python -m spacy download en\n",
        "\n",
        "!apt-get install poppler-utils # dependency of pdf2text\n",
        "!sudo apt install build-essential libpoppler-cpp-dev pkg-config python3-dev\n",
        "!pip install pdf2text\n",
        "!pip install pdftotext"
      ],
      "metadata": {
        "id": "5M-AeQ962UxW"
      },
      "execution_count": null,
      "outputs": []
    },
    {
      "cell_type": "code",
      "source": [
        "import pdftotext\n",
        "\n",
        "def extract_text_from_pdf(filename):\n",
        "    # Open the PDF file in read-binary mode\n",
        "    with open(filename, 'rb') as file:\n",
        "        # Create a PDF object\n",
        "        pdf = pdftotext.PDF(file)\n",
        " \n",
        "        # Extract the text from the PDF and join it into a single string\n",
        "        text = \"\\n\".join(pdf)\n",
        " \n",
        "        # Return the extracted text\n",
        "        return text"
      ],
      "metadata": {
        "id": "YdwMc-bU3oPy"
      },
      "execution_count": null,
      "outputs": []
    },
    {
      "cell_type": "code",
      "source": [
        "import math\n",
        "\n",
        "def compute_cosine_similarity(vec1, vec2):\n",
        "    vec1 = set(vec1)\n",
        "    vec2 = set(vec2)\n",
        "    intersection = vec1.intersection(vec2)\n",
        "    numerator = len(intersection)\n",
        "    denominator = math.sqrt(len(vec1)) * math.sqrt(len(vec2))\n",
        "    if not denominator:\n",
        "        return 0.0\n",
        "    else:\n",
        "        return float(numerator) / denominator"
      ],
      "metadata": {
        "id": "ZPx3PDwf5iuI"
      },
      "execution_count": null,
      "outputs": []
    },
    {
      "cell_type": "code",
      "execution_count": null,
      "metadata": {
        "id": "OryxqRdM2CyB",
        "colab": {
          "base_uri": "https://localhost:8080/"
        },
        "outputId": "fcc03f08-3851-4796-cfc9-c509cb0915d3"
      },
      "outputs": [
        {
          "output_type": "stream",
          "name": "stderr",
          "text": [
            "/usr/local/lib/python3.8/dist-packages/torch/cuda/__init__.py:497: UserWarning: Can't initialize NVML\n",
            "  warnings.warn(\"Can't initialize NVML\")\n"
          ]
        }
      ],
      "source": [
        "import spacy\n",
        "\n",
        "# Load the English language model\n",
        "nlp = spacy.load('en_core_web_sm')\n",
        "\n",
        "# Extract the text from the PDF files\n",
        "resume_text = extract_text_from_pdf('/content/drive/MyDrive/SampleJDandResume/MustafaCAN11082022.pdf')\n",
        "job_description_text = extract_text_from_pdf('/content/drive/MyDrive/SampleJDandResume/Junior-Software-Engineer-Job-Description-Free-PDF-Template.pdf')\n",
        "\n",
        "# Use the NER model to extract entities from the text\n",
        "resume_entities = []\n",
        "doc = nlp(resume_text)\n",
        "for entity in doc.ents:\n",
        "    resume_entities.append(entity.text)\n",
        "\n",
        "job_description_entities = []\n",
        "doc = nlp(job_description_text)\n",
        "for entity in doc.ents:\n",
        "    job_description_entities.append(entity.text)\n",
        "\n",
        "# Compute the cosine similarity between the sets of entities\n",
        "similarity = compute_cosine_similarity(resume_entities, job_description_entities)"
      ]
    },
    {
      "cell_type": "code",
      "source": [
        "similarity"
      ],
      "metadata": {
        "colab": {
          "base_uri": "https://localhost:8080/"
        },
        "id": "G1pEIV0h2GSh",
        "outputId": "f017ee99-734e-406d-ab3b-f37bd495748c"
      },
      "execution_count": null,
      "outputs": [
        {
          "output_type": "execute_result",
          "data": {
            "text/plain": [
              "0.04800153607373194"
            ]
          },
          "metadata": {},
          "execution_count": 5
        }
      ]
    }
  ]
}